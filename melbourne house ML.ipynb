{
 "cells": [
  {
   "cell_type": "code",
   "execution_count": 1,
   "metadata": {},
   "outputs": [],
   "source": [
    "import numpy as np \n",
    "import pandas as pd "
   ]
  },
  {
   "cell_type": "code",
   "execution_count": 4,
   "metadata": {},
   "outputs": [
    {
     "ename": "ImportError",
     "evalue": "cannot import name 'check_ouput' from 'subprocess' (C:\\ProgramData\\Anaconda3\\lib\\subprocess.py)",
     "output_type": "error",
     "traceback": [
      "\u001b[1;31m---------------------------------------------------------------------------\u001b[0m",
      "\u001b[1;31mImportError\u001b[0m                               Traceback (most recent call last)",
      "\u001b[1;32m<ipython-input-4-922329b3dc01>\u001b[0m in \u001b[0;36m<module>\u001b[1;34m\u001b[0m\n\u001b[1;32m----> 1\u001b[1;33m \u001b[1;32mfrom\u001b[0m \u001b[0msubprocess\u001b[0m \u001b[1;32mimport\u001b[0m \u001b[0mcheck_ouput\u001b[0m\u001b[1;33m\u001b[0m\u001b[1;33m\u001b[0m\u001b[0m\n\u001b[0m",
      "\u001b[1;31mImportError\u001b[0m: cannot import name 'check_ouput' from 'subprocess' (C:\\ProgramData\\Anaconda3\\lib\\subprocess.py)"
     ]
    }
   ],
   "source": [
    "from subprocess import check_ouput\n"
   ]
  },
  {
   "cell_type": "code",
   "execution_count": 5,
   "metadata": {},
   "outputs": [],
   "source": [
    "data=pd.read_csv('Melbourne_housing_FULL.csv')"
   ]
  },
  {
   "cell_type": "code",
   "execution_count": 6,
   "metadata": {},
   "outputs": [
    {
     "name": "stdout",
     "output_type": "stream",
     "text": [
      "              Rooms         Price      Distance      Postcode      Bedroom2  \\\n",
      "count  34857.000000  2.724700e+04  34856.000000  34856.000000  26640.000000   \n",
      "mean       3.031012  1.050173e+06     11.184929   3116.062859      3.084647   \n",
      "std        0.969933  6.414671e+05      6.788892    109.023903      0.980690   \n",
      "min        1.000000  8.500000e+04      0.000000   3000.000000      0.000000   \n",
      "25%        2.000000  6.350000e+05      6.400000   3051.000000      2.000000   \n",
      "50%        3.000000  8.700000e+05     10.300000   3103.000000      3.000000   \n",
      "75%        4.000000  1.295000e+06     14.000000   3156.000000      4.000000   \n",
      "max       16.000000  1.120000e+07     48.100000   3978.000000     30.000000   \n",
      "\n",
      "           Bathroom           Car       Landsize  BuildingArea     YearBuilt  \\\n",
      "count  26631.000000  26129.000000   23047.000000   13742.00000  15551.000000   \n",
      "mean       1.624798      1.728845     593.598993     160.25640   1965.289885   \n",
      "std        0.724212      1.010771    3398.841946     401.26706     37.328178   \n",
      "min        0.000000      0.000000       0.000000       0.00000   1196.000000   \n",
      "25%        1.000000      1.000000     224.000000     102.00000   1940.000000   \n",
      "50%        2.000000      2.000000     521.000000     136.00000   1970.000000   \n",
      "75%        2.000000      2.000000     670.000000     188.00000   2000.000000   \n",
      "max       12.000000     26.000000  433014.000000   44515.00000   2106.000000   \n",
      "\n",
      "          Lattitude    Longtitude  Propertycount  \n",
      "count  26881.000000  26881.000000   34854.000000  \n",
      "mean     -37.810634    145.001851    7572.888306  \n",
      "std        0.090279      0.120169    4428.090313  \n",
      "min      -38.190430    144.423790      83.000000  \n",
      "25%      -37.862950    144.933500    4385.000000  \n",
      "50%      -37.807600    145.007800    6763.000000  \n",
      "75%      -37.754100    145.071900   10412.000000  \n",
      "max      -37.390200    145.526350   21650.000000  \n"
     ]
    }
   ],
   "source": [
    "print(data.describe())"
   ]
  },
  {
   "cell_type": "code",
   "execution_count": 7,
   "metadata": {},
   "outputs": [
    {
     "data": {
      "text/plain": [
       "Index(['Suburb', 'Address', 'Rooms', 'Type', 'Price', 'Method', 'SellerG',\n",
       "       'Date', 'Distance', 'Postcode', 'Bedroom2', 'Bathroom', 'Car',\n",
       "       'Landsize', 'BuildingArea', 'YearBuilt', 'CouncilArea', 'Lattitude',\n",
       "       'Longtitude', 'Regionname', 'Propertycount'],\n",
       "      dtype='object')"
      ]
     },
     "execution_count": 7,
     "metadata": {},
     "output_type": "execute_result"
    }
   ],
   "source": [
    "data.columns"
   ]
  },
  {
   "cell_type": "code",
   "execution_count": 8,
   "metadata": {},
   "outputs": [
    {
     "name": "stdout",
     "output_type": "stream",
     "text": [
      "Index(['Suburb', 'Address', 'Rooms', 'Type', 'Price', 'Method', 'SellerG',\n",
      "       'Date', 'Distance', 'Postcode', 'Bedroom2', 'Bathroom', 'Car',\n",
      "       'Landsize', 'BuildingArea', 'YearBuilt', 'CouncilArea', 'Lattitude',\n",
      "       'Longtitude', 'Regionname', 'Propertycount'],\n",
      "      dtype='object')\n"
     ]
    }
   ],
   "source": [
    "print(data.columns)"
   ]
  },
  {
   "cell_type": "code",
   "execution_count": 9,
   "metadata": {},
   "outputs": [
    {
     "name": "stdout",
     "output_type": "stream",
     "text": [
      "           Suburb             Address  Rooms Type      Price Method  \\\n",
      "0      Abbotsford       68 Studley St      2    h        NaN     SS   \n",
      "1      Abbotsford        85 Turner St      2    h  1480000.0      S   \n",
      "2      Abbotsford     25 Bloomburg St      2    h  1035000.0      S   \n",
      "3      Abbotsford  18/659 Victoria St      3    u        NaN     VB   \n",
      "4      Abbotsford        5 Charles St      3    h  1465000.0     SP   \n",
      "...           ...                 ...    ...  ...        ...    ...   \n",
      "34852  Yarraville         13 Burns St      4    h  1480000.0     PI   \n",
      "34853  Yarraville       29A Murray St      2    h   888000.0     SP   \n",
      "34854  Yarraville      147A Severn St      2    t   705000.0      S   \n",
      "34855  Yarraville    12/37 Stephen St      3    h  1140000.0     SP   \n",
      "34856  Yarraville    3 Tarrengower St      2    h  1020000.0     PI   \n",
      "\n",
      "             SellerG        Date  Distance  Postcode  ...  Bathroom  Car  \\\n",
      "0             Jellis   3/09/2016       2.5    3067.0  ...       1.0  1.0   \n",
      "1             Biggin   3/12/2016       2.5    3067.0  ...       1.0  1.0   \n",
      "2             Biggin   4/02/2016       2.5    3067.0  ...       1.0  0.0   \n",
      "3             Rounds   4/02/2016       2.5    3067.0  ...       2.0  1.0   \n",
      "4             Biggin   4/03/2017       2.5    3067.0  ...       2.0  0.0   \n",
      "...              ...         ...       ...       ...  ...       ...  ...   \n",
      "34852            Jas  24/02/2018       6.3    3013.0  ...       1.0  3.0   \n",
      "34853        Sweeney  24/02/2018       6.3    3013.0  ...       2.0  1.0   \n",
      "34854            Jas  24/02/2018       6.3    3013.0  ...       1.0  2.0   \n",
      "34855  hockingstuart  24/02/2018       6.3    3013.0  ...       NaN  NaN   \n",
      "34856             RW  24/02/2018       6.3    3013.0  ...       1.0  0.0   \n",
      "\n",
      "       Landsize  BuildingArea  YearBuilt               CouncilArea Lattitude  \\\n",
      "0         126.0           NaN        NaN        Yarra City Council -37.80140   \n",
      "1         202.0           NaN        NaN        Yarra City Council -37.79960   \n",
      "2         156.0          79.0     1900.0        Yarra City Council -37.80790   \n",
      "3           0.0           NaN        NaN        Yarra City Council -37.81140   \n",
      "4         134.0         150.0     1900.0        Yarra City Council -37.80930   \n",
      "...         ...           ...        ...                       ...       ...   \n",
      "34852     593.0           NaN        NaN  Maribyrnong City Council -37.81053   \n",
      "34853      98.0         104.0     2018.0  Maribyrnong City Council -37.81551   \n",
      "34854     220.0         120.0     2000.0  Maribyrnong City Council -37.82286   \n",
      "34855       NaN           NaN        NaN  Maribyrnong City Council       NaN   \n",
      "34856     250.0         103.0     1930.0  Maribyrnong City Council -37.81810   \n",
      "\n",
      "       Longtitude             Regionname Propertycount  \n",
      "0       144.99580  Northern Metropolitan        4019.0  \n",
      "1       144.99840  Northern Metropolitan        4019.0  \n",
      "2       144.99340  Northern Metropolitan        4019.0  \n",
      "3       145.01160  Northern Metropolitan        4019.0  \n",
      "4       144.99440  Northern Metropolitan        4019.0  \n",
      "...           ...                    ...           ...  \n",
      "34852   144.88467   Western Metropolitan        6543.0  \n",
      "34853   144.88826   Western Metropolitan        6543.0  \n",
      "34854   144.87856   Western Metropolitan        6543.0  \n",
      "34855         NaN   Western Metropolitan        6543.0  \n",
      "34856   144.89351   Western Metropolitan        6543.0  \n",
      "\n",
      "[34857 rows x 21 columns]\n"
     ]
    }
   ],
   "source": [
    "print(data)"
   ]
  },
  {
   "cell_type": "code",
   "execution_count": 10,
   "metadata": {},
   "outputs": [
    {
     "name": "stdout",
     "output_type": "stream",
     "text": [
      "<bound method NDFrame.head of            Suburb             Address  Rooms Type      Price Method  \\\n",
      "0      Abbotsford       68 Studley St      2    h        NaN     SS   \n",
      "1      Abbotsford        85 Turner St      2    h  1480000.0      S   \n",
      "2      Abbotsford     25 Bloomburg St      2    h  1035000.0      S   \n",
      "3      Abbotsford  18/659 Victoria St      3    u        NaN     VB   \n",
      "4      Abbotsford        5 Charles St      3    h  1465000.0     SP   \n",
      "...           ...                 ...    ...  ...        ...    ...   \n",
      "34852  Yarraville         13 Burns St      4    h  1480000.0     PI   \n",
      "34853  Yarraville       29A Murray St      2    h   888000.0     SP   \n",
      "34854  Yarraville      147A Severn St      2    t   705000.0      S   \n",
      "34855  Yarraville    12/37 Stephen St      3    h  1140000.0     SP   \n",
      "34856  Yarraville    3 Tarrengower St      2    h  1020000.0     PI   \n",
      "\n",
      "             SellerG        Date  Distance  Postcode  ...  Bathroom  Car  \\\n",
      "0             Jellis   3/09/2016       2.5    3067.0  ...       1.0  1.0   \n",
      "1             Biggin   3/12/2016       2.5    3067.0  ...       1.0  1.0   \n",
      "2             Biggin   4/02/2016       2.5    3067.0  ...       1.0  0.0   \n",
      "3             Rounds   4/02/2016       2.5    3067.0  ...       2.0  1.0   \n",
      "4             Biggin   4/03/2017       2.5    3067.0  ...       2.0  0.0   \n",
      "...              ...         ...       ...       ...  ...       ...  ...   \n",
      "34852            Jas  24/02/2018       6.3    3013.0  ...       1.0  3.0   \n",
      "34853        Sweeney  24/02/2018       6.3    3013.0  ...       2.0  1.0   \n",
      "34854            Jas  24/02/2018       6.3    3013.0  ...       1.0  2.0   \n",
      "34855  hockingstuart  24/02/2018       6.3    3013.0  ...       NaN  NaN   \n",
      "34856             RW  24/02/2018       6.3    3013.0  ...       1.0  0.0   \n",
      "\n",
      "       Landsize  BuildingArea  YearBuilt               CouncilArea Lattitude  \\\n",
      "0         126.0           NaN        NaN        Yarra City Council -37.80140   \n",
      "1         202.0           NaN        NaN        Yarra City Council -37.79960   \n",
      "2         156.0          79.0     1900.0        Yarra City Council -37.80790   \n",
      "3           0.0           NaN        NaN        Yarra City Council -37.81140   \n",
      "4         134.0         150.0     1900.0        Yarra City Council -37.80930   \n",
      "...         ...           ...        ...                       ...       ...   \n",
      "34852     593.0           NaN        NaN  Maribyrnong City Council -37.81053   \n",
      "34853      98.0         104.0     2018.0  Maribyrnong City Council -37.81551   \n",
      "34854     220.0         120.0     2000.0  Maribyrnong City Council -37.82286   \n",
      "34855       NaN           NaN        NaN  Maribyrnong City Council       NaN   \n",
      "34856     250.0         103.0     1930.0  Maribyrnong City Council -37.81810   \n",
      "\n",
      "       Longtitude             Regionname Propertycount  \n",
      "0       144.99580  Northern Metropolitan        4019.0  \n",
      "1       144.99840  Northern Metropolitan        4019.0  \n",
      "2       144.99340  Northern Metropolitan        4019.0  \n",
      "3       145.01160  Northern Metropolitan        4019.0  \n",
      "4       144.99440  Northern Metropolitan        4019.0  \n",
      "...           ...                    ...           ...  \n",
      "34852   144.88467   Western Metropolitan        6543.0  \n",
      "34853   144.88826   Western Metropolitan        6543.0  \n",
      "34854   144.87856   Western Metropolitan        6543.0  \n",
      "34855         NaN   Western Metropolitan        6543.0  \n",
      "34856   144.89351   Western Metropolitan        6543.0  \n",
      "\n",
      "[34857 rows x 21 columns]>\n"
     ]
    }
   ],
   "source": [
    "print(data.head)"
   ]
  },
  {
   "cell_type": "code",
   "execution_count": 11,
   "metadata": {},
   "outputs": [
    {
     "name": "stdout",
     "output_type": "stream",
     "text": [
      "       Suburb             Address  Rooms Type      Price Method SellerG  \\\n",
      "0  Abbotsford       68 Studley St      2    h        NaN     SS  Jellis   \n",
      "1  Abbotsford        85 Turner St      2    h  1480000.0      S  Biggin   \n",
      "2  Abbotsford     25 Bloomburg St      2    h  1035000.0      S  Biggin   \n",
      "3  Abbotsford  18/659 Victoria St      3    u        NaN     VB  Rounds   \n",
      "4  Abbotsford        5 Charles St      3    h  1465000.0     SP  Biggin   \n",
      "\n",
      "        Date  Distance  Postcode  ...  Bathroom  Car  Landsize  BuildingArea  \\\n",
      "0  3/09/2016       2.5    3067.0  ...       1.0  1.0     126.0           NaN   \n",
      "1  3/12/2016       2.5    3067.0  ...       1.0  1.0     202.0           NaN   \n",
      "2  4/02/2016       2.5    3067.0  ...       1.0  0.0     156.0          79.0   \n",
      "3  4/02/2016       2.5    3067.0  ...       2.0  1.0       0.0           NaN   \n",
      "4  4/03/2017       2.5    3067.0  ...       2.0  0.0     134.0         150.0   \n",
      "\n",
      "   YearBuilt         CouncilArea Lattitude  Longtitude             Regionname  \\\n",
      "0        NaN  Yarra City Council  -37.8014    144.9958  Northern Metropolitan   \n",
      "1        NaN  Yarra City Council  -37.7996    144.9984  Northern Metropolitan   \n",
      "2     1900.0  Yarra City Council  -37.8079    144.9934  Northern Metropolitan   \n",
      "3        NaN  Yarra City Council  -37.8114    145.0116  Northern Metropolitan   \n",
      "4     1900.0  Yarra City Council  -37.8093    144.9944  Northern Metropolitan   \n",
      "\n",
      "  Propertycount  \n",
      "0        4019.0  \n",
      "1        4019.0  \n",
      "2        4019.0  \n",
      "3        4019.0  \n",
      "4        4019.0  \n",
      "\n",
      "[5 rows x 21 columns]\n"
     ]
    }
   ],
   "source": [
    "print(data.head())"
   ]
  },
  {
   "cell_type": "code",
   "execution_count": 12,
   "metadata": {},
   "outputs": [
    {
     "name": "stdout",
     "output_type": "stream",
     "text": [
      "           Suburb           Address  Rooms Type      Price Method  \\\n",
      "34852  Yarraville       13 Burns St      4    h  1480000.0     PI   \n",
      "34853  Yarraville     29A Murray St      2    h   888000.0     SP   \n",
      "34854  Yarraville    147A Severn St      2    t   705000.0      S   \n",
      "34855  Yarraville  12/37 Stephen St      3    h  1140000.0     SP   \n",
      "34856  Yarraville  3 Tarrengower St      2    h  1020000.0     PI   \n",
      "\n",
      "             SellerG        Date  Distance  Postcode  ...  Bathroom  Car  \\\n",
      "34852            Jas  24/02/2018       6.3    3013.0  ...       1.0  3.0   \n",
      "34853        Sweeney  24/02/2018       6.3    3013.0  ...       2.0  1.0   \n",
      "34854            Jas  24/02/2018       6.3    3013.0  ...       1.0  2.0   \n",
      "34855  hockingstuart  24/02/2018       6.3    3013.0  ...       NaN  NaN   \n",
      "34856             RW  24/02/2018       6.3    3013.0  ...       1.0  0.0   \n",
      "\n",
      "       Landsize  BuildingArea  YearBuilt               CouncilArea Lattitude  \\\n",
      "34852     593.0           NaN        NaN  Maribyrnong City Council -37.81053   \n",
      "34853      98.0         104.0     2018.0  Maribyrnong City Council -37.81551   \n",
      "34854     220.0         120.0     2000.0  Maribyrnong City Council -37.82286   \n",
      "34855       NaN           NaN        NaN  Maribyrnong City Council       NaN   \n",
      "34856     250.0         103.0     1930.0  Maribyrnong City Council -37.81810   \n",
      "\n",
      "       Longtitude            Regionname Propertycount  \n",
      "34852   144.88467  Western Metropolitan        6543.0  \n",
      "34853   144.88826  Western Metropolitan        6543.0  \n",
      "34854   144.87856  Western Metropolitan        6543.0  \n",
      "34855         NaN  Western Metropolitan        6543.0  \n",
      "34856   144.89351  Western Metropolitan        6543.0  \n",
      "\n",
      "[5 rows x 21 columns]\n"
     ]
    }
   ],
   "source": [
    "print(data.tail())"
   ]
  },
  {
   "cell_type": "code",
   "execution_count": 17,
   "metadata": {},
   "outputs": [],
   "source": [
    "p_data=data.Address"
   ]
  },
  {
   "cell_type": "code",
   "execution_count": 18,
   "metadata": {},
   "outputs": [
    {
     "data": {
      "text/plain": [
       "0         68 Studley St\n",
       "1          85 Turner St\n",
       "2       25 Bloomburg St\n",
       "3    18/659 Victoria St\n",
       "4          5 Charles St\n",
       "Name: Address, dtype: object"
      ]
     },
     "execution_count": 18,
     "metadata": {},
     "output_type": "execute_result"
    }
   ],
   "source": [
    "p_data.head()"
   ]
  },
  {
   "cell_type": "code",
   "execution_count": 19,
   "metadata": {},
   "outputs": [
    {
     "data": {
      "text/plain": [
       "34852         13 Burns St\n",
       "34853       29A Murray St\n",
       "34854      147A Severn St\n",
       "34855    12/37 Stephen St\n",
       "34856    3 Tarrengower St\n",
       "Name: Address, dtype: object"
      ]
     },
     "execution_count": 19,
     "metadata": {},
     "output_type": "execute_result"
    }
   ],
   "source": [
    "p_data.tail()"
   ]
  },
  {
   "cell_type": "code",
   "execution_count": 20,
   "metadata": {},
   "outputs": [
    {
     "data": {
      "text/plain": [
       "0          NaN\n",
       "1    1480000.0\n",
       "2    1035000.0\n",
       "3          NaN\n",
       "4    1465000.0\n",
       "Name: Price, dtype: float64"
      ]
     },
     "execution_count": 20,
     "metadata": {},
     "output_type": "execute_result"
    }
   ],
   "source": [
    "data.Price.head()"
   ]
  },
  {
   "cell_type": "code",
   "execution_count": 21,
   "metadata": {},
   "outputs": [
    {
     "data": {
      "text/html": [
       "<div>\n",
       "<style scoped>\n",
       "    .dataframe tbody tr th:only-of-type {\n",
       "        vertical-align: middle;\n",
       "    }\n",
       "\n",
       "    .dataframe tbody tr th {\n",
       "        vertical-align: top;\n",
       "    }\n",
       "\n",
       "    .dataframe thead th {\n",
       "        text-align: right;\n",
       "    }\n",
       "</style>\n",
       "<table border=\"1\" class=\"dataframe\">\n",
       "  <thead>\n",
       "    <tr style=\"text-align: right;\">\n",
       "      <th></th>\n",
       "      <th>Landsize</th>\n",
       "      <th>BuildingArea</th>\n",
       "    </tr>\n",
       "  </thead>\n",
       "  <tbody>\n",
       "    <tr>\n",
       "      <th>count</th>\n",
       "      <td>23047.000000</td>\n",
       "      <td>13742.00000</td>\n",
       "    </tr>\n",
       "    <tr>\n",
       "      <th>mean</th>\n",
       "      <td>593.598993</td>\n",
       "      <td>160.25640</td>\n",
       "    </tr>\n",
       "    <tr>\n",
       "      <th>std</th>\n",
       "      <td>3398.841946</td>\n",
       "      <td>401.26706</td>\n",
       "    </tr>\n",
       "    <tr>\n",
       "      <th>min</th>\n",
       "      <td>0.000000</td>\n",
       "      <td>0.00000</td>\n",
       "    </tr>\n",
       "    <tr>\n",
       "      <th>25%</th>\n",
       "      <td>224.000000</td>\n",
       "      <td>102.00000</td>\n",
       "    </tr>\n",
       "    <tr>\n",
       "      <th>50%</th>\n",
       "      <td>521.000000</td>\n",
       "      <td>136.00000</td>\n",
       "    </tr>\n",
       "    <tr>\n",
       "      <th>75%</th>\n",
       "      <td>670.000000</td>\n",
       "      <td>188.00000</td>\n",
       "    </tr>\n",
       "    <tr>\n",
       "      <th>max</th>\n",
       "      <td>433014.000000</td>\n",
       "      <td>44515.00000</td>\n",
       "    </tr>\n",
       "  </tbody>\n",
       "</table>\n",
       "</div>"
      ],
      "text/plain": [
       "            Landsize  BuildingArea\n",
       "count   23047.000000   13742.00000\n",
       "mean      593.598993     160.25640\n",
       "std      3398.841946     401.26706\n",
       "min         0.000000       0.00000\n",
       "25%       224.000000     102.00000\n",
       "50%       521.000000     136.00000\n",
       "75%       670.000000     188.00000\n",
       "max    433014.000000   44515.00000"
      ]
     },
     "execution_count": 21,
     "metadata": {},
     "output_type": "execute_result"
    }
   ],
   "source": [
    "col=['Landsize', 'BuildingArea']\n",
    "t=data[col]\n",
    "t.describe()"
   ]
  },
  {
   "cell_type": "code",
   "execution_count": 22,
   "metadata": {},
   "outputs": [],
   "source": [
    "data=data.dropna()\n",
    "predict=['Price']\n",
    "y=data[predict]\n",
    "predictors=['Rooms', 'Bathroom', 'Landsize', 'BuildingArea', 'YearBuilt', 'Lattitude', 'Longtitude']"
   ]
  },
  {
   "cell_type": "code",
   "execution_count": 23,
   "metadata": {},
   "outputs": [],
   "source": [
    "X=data[predictors]"
   ]
  },
  {
   "cell_type": "code",
   "execution_count": 24,
   "metadata": {},
   "outputs": [
    {
     "data": {
      "text/plain": [
       "DecisionTreeRegressor()"
      ]
     },
     "execution_count": 24,
     "metadata": {},
     "output_type": "execute_result"
    }
   ],
   "source": [
    "from sklearn.tree import DecisionTreeRegressor as dt\n",
    "model=dt()\n",
    "model.fit(X,y)"
   ]
  },
  {
   "cell_type": "code",
   "execution_count": 25,
   "metadata": {},
   "outputs": [
    {
     "data": {
      "text/plain": [
       "array([1035000., 1465000., 1600000., 1876000., 1636000.])"
      ]
     },
     "execution_count": 25,
     "metadata": {},
     "output_type": "execute_result"
    }
   ],
   "source": [
    "model.predict(X.head())"
   ]
  },
  {
   "cell_type": "code",
   "execution_count": 26,
   "metadata": {},
   "outputs": [
    {
     "data": {
      "text/plain": [
       "array([ 500000.,  570000.,  888000.,  705000., 1020000.])"
      ]
     },
     "execution_count": 26,
     "metadata": {},
     "output_type": "execute_result"
    }
   ],
   "source": [
    "model.predict(X.tail())"
   ]
  },
  {
   "cell_type": "code",
   "execution_count": 27,
   "metadata": {},
   "outputs": [],
   "source": [
    "prices=data['Price']"
   ]
  },
  {
   "cell_type": "code",
   "execution_count": 29,
   "metadata": {},
   "outputs": [
    {
     "data": {
      "text/plain": [
       "2     1035000.0\n",
       "4     1465000.0\n",
       "6     1600000.0\n",
       "11    1876000.0\n",
       "14    1636000.0\n",
       "Name: Price, dtype: float64"
      ]
     },
     "execution_count": 29,
     "metadata": {},
     "output_type": "execute_result"
    }
   ],
   "source": [
    "prices.head()"
   ]
  },
  {
   "cell_type": "code",
   "execution_count": 30,
   "metadata": {},
   "outputs": [
    {
     "data": {
      "text/plain": [
       "34847     500000.0\n",
       "34849     570000.0\n",
       "34853     888000.0\n",
       "34854     705000.0\n",
       "34856    1020000.0\n",
       "Name: Price, dtype: float64"
      ]
     },
     "execution_count": 30,
     "metadata": {},
     "output_type": "execute_result"
    }
   ],
   "source": [
    "prices.tail()"
   ]
  },
  {
   "cell_type": "code",
   "execution_count": 31,
   "metadata": {},
   "outputs": [
    {
     "data": {
      "text/html": [
       "<div>\n",
       "<style scoped>\n",
       "    .dataframe tbody tr th:only-of-type {\n",
       "        vertical-align: middle;\n",
       "    }\n",
       "\n",
       "    .dataframe tbody tr th {\n",
       "        vertical-align: top;\n",
       "    }\n",
       "\n",
       "    .dataframe thead th {\n",
       "        text-align: right;\n",
       "    }\n",
       "</style>\n",
       "<table border=\"1\" class=\"dataframe\">\n",
       "  <thead>\n",
       "    <tr style=\"text-align: right;\">\n",
       "      <th></th>\n",
       "      <th>Suburb</th>\n",
       "      <th>Address</th>\n",
       "      <th>Rooms</th>\n",
       "      <th>Type</th>\n",
       "      <th>Price</th>\n",
       "      <th>Method</th>\n",
       "      <th>SellerG</th>\n",
       "      <th>Date</th>\n",
       "      <th>Distance</th>\n",
       "      <th>Postcode</th>\n",
       "      <th>...</th>\n",
       "      <th>Bathroom</th>\n",
       "      <th>Car</th>\n",
       "      <th>Landsize</th>\n",
       "      <th>BuildingArea</th>\n",
       "      <th>YearBuilt</th>\n",
       "      <th>CouncilArea</th>\n",
       "      <th>Lattitude</th>\n",
       "      <th>Longtitude</th>\n",
       "      <th>Regionname</th>\n",
       "      <th>Propertycount</th>\n",
       "    </tr>\n",
       "  </thead>\n",
       "  <tbody>\n",
       "    <tr>\n",
       "      <th>2</th>\n",
       "      <td>Abbotsford</td>\n",
       "      <td>25 Bloomburg St</td>\n",
       "      <td>2</td>\n",
       "      <td>h</td>\n",
       "      <td>1035000.0</td>\n",
       "      <td>S</td>\n",
       "      <td>Biggin</td>\n",
       "      <td>4/02/2016</td>\n",
       "      <td>2.5</td>\n",
       "      <td>3067.0</td>\n",
       "      <td>...</td>\n",
       "      <td>1.0</td>\n",
       "      <td>0.0</td>\n",
       "      <td>156.0</td>\n",
       "      <td>79.0</td>\n",
       "      <td>1900.0</td>\n",
       "      <td>Yarra City Council</td>\n",
       "      <td>-37.8079</td>\n",
       "      <td>144.9934</td>\n",
       "      <td>Northern Metropolitan</td>\n",
       "      <td>4019.0</td>\n",
       "    </tr>\n",
       "    <tr>\n",
       "      <th>4</th>\n",
       "      <td>Abbotsford</td>\n",
       "      <td>5 Charles St</td>\n",
       "      <td>3</td>\n",
       "      <td>h</td>\n",
       "      <td>1465000.0</td>\n",
       "      <td>SP</td>\n",
       "      <td>Biggin</td>\n",
       "      <td>4/03/2017</td>\n",
       "      <td>2.5</td>\n",
       "      <td>3067.0</td>\n",
       "      <td>...</td>\n",
       "      <td>2.0</td>\n",
       "      <td>0.0</td>\n",
       "      <td>134.0</td>\n",
       "      <td>150.0</td>\n",
       "      <td>1900.0</td>\n",
       "      <td>Yarra City Council</td>\n",
       "      <td>-37.8093</td>\n",
       "      <td>144.9944</td>\n",
       "      <td>Northern Metropolitan</td>\n",
       "      <td>4019.0</td>\n",
       "    </tr>\n",
       "    <tr>\n",
       "      <th>6</th>\n",
       "      <td>Abbotsford</td>\n",
       "      <td>55a Park St</td>\n",
       "      <td>4</td>\n",
       "      <td>h</td>\n",
       "      <td>1600000.0</td>\n",
       "      <td>VB</td>\n",
       "      <td>Nelson</td>\n",
       "      <td>4/06/2016</td>\n",
       "      <td>2.5</td>\n",
       "      <td>3067.0</td>\n",
       "      <td>...</td>\n",
       "      <td>1.0</td>\n",
       "      <td>2.0</td>\n",
       "      <td>120.0</td>\n",
       "      <td>142.0</td>\n",
       "      <td>2014.0</td>\n",
       "      <td>Yarra City Council</td>\n",
       "      <td>-37.8072</td>\n",
       "      <td>144.9941</td>\n",
       "      <td>Northern Metropolitan</td>\n",
       "      <td>4019.0</td>\n",
       "    </tr>\n",
       "    <tr>\n",
       "      <th>11</th>\n",
       "      <td>Abbotsford</td>\n",
       "      <td>124 Yarra St</td>\n",
       "      <td>3</td>\n",
       "      <td>h</td>\n",
       "      <td>1876000.0</td>\n",
       "      <td>S</td>\n",
       "      <td>Nelson</td>\n",
       "      <td>7/05/2016</td>\n",
       "      <td>2.5</td>\n",
       "      <td>3067.0</td>\n",
       "      <td>...</td>\n",
       "      <td>2.0</td>\n",
       "      <td>0.0</td>\n",
       "      <td>245.0</td>\n",
       "      <td>210.0</td>\n",
       "      <td>1910.0</td>\n",
       "      <td>Yarra City Council</td>\n",
       "      <td>-37.8024</td>\n",
       "      <td>144.9993</td>\n",
       "      <td>Northern Metropolitan</td>\n",
       "      <td>4019.0</td>\n",
       "    </tr>\n",
       "    <tr>\n",
       "      <th>14</th>\n",
       "      <td>Abbotsford</td>\n",
       "      <td>98 Charles St</td>\n",
       "      <td>2</td>\n",
       "      <td>h</td>\n",
       "      <td>1636000.0</td>\n",
       "      <td>S</td>\n",
       "      <td>Nelson</td>\n",
       "      <td>8/10/2016</td>\n",
       "      <td>2.5</td>\n",
       "      <td>3067.0</td>\n",
       "      <td>...</td>\n",
       "      <td>1.0</td>\n",
       "      <td>2.0</td>\n",
       "      <td>256.0</td>\n",
       "      <td>107.0</td>\n",
       "      <td>1890.0</td>\n",
       "      <td>Yarra City Council</td>\n",
       "      <td>-37.8060</td>\n",
       "      <td>144.9954</td>\n",
       "      <td>Northern Metropolitan</td>\n",
       "      <td>4019.0</td>\n",
       "    </tr>\n",
       "  </tbody>\n",
       "</table>\n",
       "<p>5 rows × 21 columns</p>\n",
       "</div>"
      ],
      "text/plain": [
       "        Suburb          Address  Rooms Type      Price Method SellerG  \\\n",
       "2   Abbotsford  25 Bloomburg St      2    h  1035000.0      S  Biggin   \n",
       "4   Abbotsford     5 Charles St      3    h  1465000.0     SP  Biggin   \n",
       "6   Abbotsford      55a Park St      4    h  1600000.0     VB  Nelson   \n",
       "11  Abbotsford     124 Yarra St      3    h  1876000.0      S  Nelson   \n",
       "14  Abbotsford    98 Charles St      2    h  1636000.0      S  Nelson   \n",
       "\n",
       "         Date  Distance  Postcode  ...  Bathroom  Car  Landsize  BuildingArea  \\\n",
       "2   4/02/2016       2.5    3067.0  ...       1.0  0.0     156.0          79.0   \n",
       "4   4/03/2017       2.5    3067.0  ...       2.0  0.0     134.0         150.0   \n",
       "6   4/06/2016       2.5    3067.0  ...       1.0  2.0     120.0         142.0   \n",
       "11  7/05/2016       2.5    3067.0  ...       2.0  0.0     245.0         210.0   \n",
       "14  8/10/2016       2.5    3067.0  ...       1.0  2.0     256.0         107.0   \n",
       "\n",
       "    YearBuilt         CouncilArea Lattitude  Longtitude  \\\n",
       "2      1900.0  Yarra City Council  -37.8079    144.9934   \n",
       "4      1900.0  Yarra City Council  -37.8093    144.9944   \n",
       "6      2014.0  Yarra City Council  -37.8072    144.9941   \n",
       "11     1910.0  Yarra City Council  -37.8024    144.9993   \n",
       "14     1890.0  Yarra City Council  -37.8060    144.9954   \n",
       "\n",
       "               Regionname Propertycount  \n",
       "2   Northern Metropolitan        4019.0  \n",
       "4   Northern Metropolitan        4019.0  \n",
       "6   Northern Metropolitan        4019.0  \n",
       "11  Northern Metropolitan        4019.0  \n",
       "14  Northern Metropolitan        4019.0  \n",
       "\n",
       "[5 rows x 21 columns]"
      ]
     },
     "execution_count": 31,
     "metadata": {},
     "output_type": "execute_result"
    }
   ],
   "source": [
    "data.head()"
   ]
  },
  {
   "cell_type": "code",
   "execution_count": 32,
   "metadata": {},
   "outputs": [],
   "source": [
    "import matplotlib.pyplot as plt\n",
    "%matplotlib inline\n",
    "import seaborn as sns\n",
    "from sklearn.preprocessing import OneHotEncoder, StandardScaler\n",
    "from sklearn.metrics import mean_squared_error, mean_absolute_error\n",
    "from sklearn.model_selection import train_test_split, RandomizedSearchCV\n",
    "from sklearn.linear_model import LinearRegression, Ridge, RidgeCV\n",
    "from sklearn.ensemble import RandomForestRegressor, GradientBoostingRegressor"
   ]
  },
  {
   "cell_type": "code",
   "execution_count": 35,
   "metadata": {},
   "outputs": [
    {
     "data": {
      "text/plain": [
       "2     1035000.0\n",
       "4     1465000.0\n",
       "6     1600000.0\n",
       "11    1876000.0\n",
       "14    1636000.0\n",
       "Name: Price, dtype: float64"
      ]
     },
     "metadata": {},
     "output_type": "display_data"
    },
    {
     "data": {
      "image/png": "[encoded data removed]",
      "text/plain": [
       "<Figure size 432x288 with 1 Axes>"
      ]
     },
     "metadata": {
      "needs_background": "light"
     },
     "output_type": "display_data"
    }
   ],
   "source": [
    "display(data.Price.head())\n",
    "data.Price.dropna().hist()\n",
    "plt.title('Price');"
   ]
  },
  {
   "cell_type": "code",
   "execution_count": null,
   "metadata": {},
   "outputs": [],
   "source": []
  }
 ],
 "metadata": {
  "kernelspec": {
   "display_name": "Python 3",
   "language": "python",
   "name": "python3"
  },
  "language_info": {
   "codemirror_mode": {
    "name": "ipython",
    "version": 3
   },
   "file_extension": ".py",
   "mimetype": "text/x-python",
   "name": "python",
   "nbconvert_exporter": "python",
   "pygments_lexer": "ipython3",
   "version": "3.7.6"
  }
 },
 "nbformat": 4,
 "nbformat_minor": 4
}
